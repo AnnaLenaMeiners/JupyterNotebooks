{
 "cells": [
  {
   "cell_type": "markdown",
   "id": "13a3136e-ff56-439c-a167-3e1db34e88f3",
   "metadata": {},
   "source": [
    "![Logo](Technikklein.png)\n",
    "\n",
    "# Task 3: Python Data Science (Part 1)\n",
    "### Data Science\n",
    "\n",
    "\n",
    "##### Dozent: Prof. Dr. Stefan Edlich\n",
    "##### Medieninformatik\n",
    "##### Hochschule Emden/Leer\n",
    "##### Sommersemester 2021\n",
    "   \n",
    "_____\n"
   ]
  },
  {
   "cell_type": "markdown",
   "id": "e1d5ca60-b2f7-4a1d-85ad-a0db5d5cf7b1",
   "metadata": {},
   "source": [
    "The first task was to get acquainted with Jupyter Notebooks, set everything up, etc.\n",
    "Is this proof enough? :)\n"
   ]
  },
  {
   "cell_type": "code",
   "execution_count": 2,
   "id": "c0a8d44b-4713-42d5-a63d-ef823ce93b78",
   "metadata": {},
   "outputs": [
    {
     "name": "stdout",
     "output_type": "stream",
     "text": [
      "1.20.1\n"
     ]
    }
   ],
   "source": [
    "import numpy as np\n",
    "print(np.__version__)"
   ]
  },
  {
   "cell_type": "raw",
   "id": "77931f6f-75f7-4f4b-97fb-27df7ba4d000",
   "metadata": {},
   "source": [
    "was bedeutet raw?"
   ]
  },
  {
   "cell_type": "markdown",
   "id": "b98af3be-600c-4586-8647-768c88ff6203",
   "metadata": {},
   "source": [
    ">*Italic*\n",
    ">_**Italic Bold**_\n",
    "- list\n",
    "- list\n",
    "- list"
   ]
  },
  {
   "cell_type": "code",
   "execution_count": null,
   "id": "085ab04c-a958-41c8-8264-347c53a78c78",
   "metadata": {},
   "outputs": [],
   "source": []
  }
 ],
 "metadata": {
  "kernelspec": {
   "display_name": "Python 3",
   "language": "python",
   "name": "python3"
  },
  "language_info": {
   "codemirror_mode": {
    "name": "ipython",
    "version": 3
   },
   "file_extension": ".py",
   "mimetype": "text/x-python",
   "name": "python",
   "nbconvert_exporter": "python",
   "pygments_lexer": "ipython3",
   "version": "3.8.8"
  }
 },
 "nbformat": 4,
 "nbformat_minor": 5
}
