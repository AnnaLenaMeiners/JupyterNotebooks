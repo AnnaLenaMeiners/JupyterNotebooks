{
 "cells": [
  {
   "cell_type": "markdown",
   "id": "13a3136e-ff56-439c-a167-3e1db34e88f3",
   "metadata": {},
   "source": [
    "![Logo](Technikklein.png)\n",
    "\n",
    "# Task 3: Python Data Science (Part 2)\n",
    "### Data Science\n",
    "\n",
    "\n",
    "##### Dozent: Prof. Dr. Stefan Edlich\n",
    "##### Medieninformatik\n",
    "##### Hochschule Emden/Leer\n",
    "##### Sommersemester 2021\n",
    "   \n",
    "_____\n"
   ]
  },
  {
   "cell_type": "markdown",
   "id": "e1d5ca60-b2f7-4a1d-85ad-a0db5d5cf7b1",
   "metadata": {},
   "source": [
    "\n",
    "\n",
    "The second task for this week was to work through the first 25 of the [101 Numpy Exercises](https://www.machinelearningplus.com/python/101-numpy-exercises-python/) and prove it by giving some 'sloppy' solves. :)"
   ]
  },
  {
   "cell_type": "markdown",
   "id": "b98af3be-600c-4586-8647-768c88ff6203",
   "metadata": {},
   "source": [
    "### Ex. 1 Load the countries.csv directly via URL import into your panda data frame!"
   ]
  },
  {
   "cell_type": "code",
   "execution_count": 1,
   "id": "c0a8d44b-4713-42d5-a63d-ef823ce93b78",
   "metadata": {},
   "outputs": [
    {
     "name": "stdout",
     "output_type": "stream",
     "text": [
      "1.20.1\n"
     ]
    }
   ],
   "source": [
    "import numpy as np\n",
    "print(np.__version__)"
   ]
  },
  {
   "cell_type": "markdown",
   "id": "ec359c27-30dd-4f13-867a-7172747c9b13",
   "metadata": {},
   "source": [
    "### Ex. 2 Create a 1D array of numbers from 0 to 9."
   ]
  },
  {
   "cell_type": "code",
   "execution_count": 3,
   "id": "085ab04c-a958-41c8-8264-347c53a78c78",
   "metadata": {},
   "outputs": [
    {
     "data": {
      "text/plain": [
       "array([0, 1, 2, 3, 4, 5, 6, 7, 8, 9])"
      ]
     },
     "execution_count": 3,
     "metadata": {},
     "output_type": "execute_result"
    }
   ],
   "source": [
    "arr = np.arange(10)\n",
    "arr"
   ]
  },
  {
   "cell_type": "markdown",
   "id": "46746a90-94a2-4148-a282-25645105be50",
   "metadata": {},
   "source": [
    "### Ex. 3 Create a 3×3 numpy array of all True’s."
   ]
  },
  {
   "cell_type": "code",
   "execution_count": 4,
   "id": "8ac1365f-d7b2-4579-b36c-214220ae15b4",
   "metadata": {},
   "outputs": [
    {
     "data": {
      "text/plain": [
       "array([[ True,  True,  True],\n",
       "       [ True,  True,  True],\n",
       "       [ True,  True,  True]])"
      ]
     },
     "execution_count": 4,
     "metadata": {},
     "output_type": "execute_result"
    }
   ],
   "source": [
    "np.full((3, 3), True, dtype=bool)"
   ]
  },
  {
   "cell_type": "markdown",
   "id": "dbbb7eeb-b282-4db8-9cb5-7192ec30cf08",
   "metadata": {},
   "source": [
    "### Ex. 4 Extract all odd numbers from `arr`."
   ]
  },
  {
   "cell_type": "code",
   "execution_count": 5,
   "id": "ca33f7e8-779d-403b-bcf2-ffc791fa76db",
   "metadata": {},
   "outputs": [
    {
     "data": {
      "text/plain": [
       "array([1, 3, 5, 7, 9])"
      ]
     },
     "execution_count": 5,
     "metadata": {},
     "output_type": "execute_result"
    }
   ],
   "source": [
    "arr[arr % 2 == 1]"
   ]
  },
  {
   "cell_type": "markdown",
   "id": "2992f1bc-2d7a-4066-a07a-e481d48993a3",
   "metadata": {},
   "source": [
    "### Ex. 5 Replace all odd numbers in `arr` with -1."
   ]
  },
  {
   "cell_type": "code",
   "execution_count": 10,
   "id": "45cdf2ce-fc5c-483c-9676-a71709679f9f",
   "metadata": {},
   "outputs": [
    {
     "data": {
      "text/plain": [
       "array([ 0, -1,  2, -1,  4, -1,  6, -1,  8, -1])"
      ]
     },
     "execution_count": 10,
     "metadata": {},
     "output_type": "execute_result"
    }
   ],
   "source": [
    "arr[arr % 2 == 1] = -1\n",
    "arr"
   ]
  },
  {
   "cell_type": "markdown",
   "id": "6786049a-db44-49f7-a415-392f614c745d",
   "metadata": {},
   "source": [
    "### Ex. 6 Replace all odd numbers in `arr` with -1 without changing `arr`."
   ]
  },
  {
   "cell_type": "code",
   "execution_count": 15,
   "id": "f80fe8d5-45cf-4b3b-810c-8ceff59f4b17",
   "metadata": {},
   "outputs": [
    {
     "name": "stdout",
     "output_type": "stream",
     "text": [
      "[0 1 2 3 4 5 6 7 8 9]\n"
     ]
    },
    {
     "data": {
      "text/plain": [
       "array([ 0, -1,  2, -1,  4, -1,  6, -1,  8, -1])"
      ]
     },
     "execution_count": 15,
     "metadata": {},
     "output_type": "execute_result"
    }
   ],
   "source": [
    "arr = np.arange(10)\n",
    "out = np.where(arr % 2 == 1, -1, arr)\n",
    "\n",
    "print(arr)\n",
    "out"
   ]
  },
  {
   "cell_type": "markdown",
   "id": "fc77aefa-67af-4762-bc7a-6841093a42c2",
   "metadata": {},
   "source": [
    "### Ex. 7 Convert a 1D array to a 2D array with 2 rows."
   ]
  },
  {
   "cell_type": "code",
   "execution_count": 26,
   "id": "7beb68ff-39f8-4232-99df-dd932099372f",
   "metadata": {},
   "outputs": [
    {
     "data": {
      "text/plain": [
       "array([[ 0, -1,  2, -1,  4],\n",
       "       [-1,  6, -1,  8, -1]])"
      ]
     },
     "execution_count": 26,
     "metadata": {},
     "output_type": "execute_result"
    }
   ],
   "source": [
    "out.reshape(2, -1)"
   ]
  },
  {
   "cell_type": "markdown",
   "id": "24138ba3-d4ee-4046-b5ee-934475f0007b",
   "metadata": {},
   "source": [
    "### Ex. 8 Stack the arrays `a` and `b` vertically."
   ]
  },
  {
   "cell_type": "code",
   "execution_count": 38,
   "id": "de5e87a6-1268-474f-9a79-a4c6e8e11e08",
   "metadata": {},
   "outputs": [
    {
     "data": {
      "text/plain": [
       "array([[0, 1, 2, 3, 4],\n",
       "       [5, 6, 7, 8, 9],\n",
       "       [0, 1, 2, 3, 4],\n",
       "       [5, 6, 7, 8, 9]])"
      ]
     },
     "execution_count": 38,
     "metadata": {},
     "output_type": "execute_result"
    }
   ],
   "source": [
    "a = np.arange(10).reshape(2, -1)\n",
    "b = np.arange(10).reshape(2, -1)\n",
    "\n",
    "c = np.concatenate([a, b], axis=0)\n",
    "c"
   ]
  },
  {
   "cell_type": "markdown",
   "id": "5c60de0c-653d-4501-8508-bdaa26dabb6c",
   "metadata": {},
   "source": [
    "### Ex. 9 Stack the arrays `a` and `b` horizontally."
   ]
  },
  {
   "cell_type": "code",
   "execution_count": 42,
   "id": "9c45ac39-9b2a-40c5-8d82-e6d54ec4a87a",
   "metadata": {},
   "outputs": [
    {
     "data": {
      "text/plain": [
       "array([[0, 1, 2, 3, 4, 0, 1, 2, 3, 4],\n",
       "       [5, 6, 7, 8, 9, 5, 6, 7, 8, 9]])"
      ]
     },
     "execution_count": 42,
     "metadata": {},
     "output_type": "execute_result"
    }
   ],
   "source": [
    "d = np.concatenate([a, b], axis=-1)\n",
    "d"
   ]
  },
  {
   "cell_type": "markdown",
   "id": "ddd8557b-3f5b-453d-a379-d5fee7d3d4b5",
   "metadata": {},
   "source": [
    "### Ex. 10 Create the following pattern without hardcoding. Use only numpy functions and the below input array `a`.\n",
    "Input: `a = np.array([1,2,3])`\n",
    "\n",
    "Desired output: `#> array([1, 1, 1, 2, 2, 2, 3, 3, 3, 1, 2, 3, 1, 2, 3, 1, 2, 3])`\n",
    "\n",
    "(There is an easier solution, I saw it.)"
   ]
  },
  {
   "cell_type": "code",
   "execution_count": 51,
   "id": "4d166474-bae4-47ed-9e26-85ed24f49144",
   "metadata": {},
   "outputs": [
    {
     "data": {
      "text/plain": [
       "array([1, 1, 1, 2, 2, 2, 3, 3, 3, 1, 2, 3, 1, 2, 3, 1, 2, 3])"
      ]
     },
     "execution_count": 51,
     "metadata": {},
     "output_type": "execute_result"
    }
   ],
   "source": [
    "a = np.array([1, 2, 3])\n",
    "b = np.repeat(a, 3)\n",
    "c = np.concatenate([a, a, a], axis=0)\n",
    "d = np.concatenate([b, c], axis=0)\n",
    "d"
   ]
  },
  {
   "cell_type": "markdown",
   "id": "b33e48de-a36e-4160-895a-247fd5327523",
   "metadata": {},
   "source": [
    "### Ex. 11 Get the common items between `a` and `b`.\n",
    "Input:\n",
    "\n",
    "`a = np.array([1,2,3,2,3,4,3,4,5,6])`\n",
    "\n",
    "`b = np.array([7,2,10,2,7,4,9,4,9,8])`"
   ]
  },
  {
   "cell_type": "code",
   "execution_count": 53,
   "id": "c48eeae6-e4a7-4fbe-9589-c9edd2e37417",
   "metadata": {},
   "outputs": [
    {
     "data": {
      "text/plain": [
       "array([2, 4])"
      ]
     },
     "execution_count": 53,
     "metadata": {},
     "output_type": "execute_result"
    }
   ],
   "source": [
    "a = np.array([1,2,3,2,3,4,3,4,5,6])\n",
    "b = np.array([7,2,10,2,7,4,9,4,9,8])\n",
    "c = np.intersect1d(a, b)\n",
    "c"
   ]
  },
  {
   "cell_type": "markdown",
   "id": "b8753188-f331-40ad-89e9-c921a65a6c8a",
   "metadata": {},
   "source": [
    "### Ex. 12 From array `a` remove all items present in array `b`."
   ]
  },
  {
   "cell_type": "code",
   "execution_count": 54,
   "id": "57dc7ae6-4dcd-4571-b9a7-12221f09111e",
   "metadata": {},
   "outputs": [
    {
     "data": {
      "text/plain": [
       "array([1, 3, 5, 6])"
      ]
     },
     "execution_count": 54,
     "metadata": {},
     "output_type": "execute_result"
    }
   ],
   "source": [
    "d = np.setdiff1d(a,b)\n",
    "d"
   ]
  },
  {
   "cell_type": "markdown",
   "id": "802a3a98-1d8c-44ea-98f6-775619fa3622",
   "metadata": {},
   "source": [
    "### Ex. 13 Get the positions where elements of `a` and `b` match."
   ]
  },
  {
   "cell_type": "code",
   "execution_count": 56,
   "id": "2093c597-1fc0-46e8-996f-1b799b4d57bd",
   "metadata": {},
   "outputs": [
    {
     "data": {
      "text/plain": [
       "(array([1, 3, 5, 7], dtype=int64),)"
      ]
     },
     "execution_count": 56,
     "metadata": {},
     "output_type": "execute_result"
    }
   ],
   "source": [
    "e = np.where(a == b)\n",
    "e"
   ]
  },
  {
   "cell_type": "markdown",
   "id": "74f2dc6b-6246-42b3-b8b0-1868a96cd46b",
   "metadata": {},
   "source": [
    "### Ex. 14 Get all items between 5 and 10 from `a`."
   ]
  },
  {
   "cell_type": "code",
   "execution_count": 66,
   "id": "cea1bdd4-a285-49da-8795-808d86f22d1c",
   "metadata": {},
   "outputs": [
    {
     "data": {
      "text/plain": [
       "array([6, 7, 8, 9])"
      ]
     },
     "execution_count": 66,
     "metadata": {},
     "output_type": "execute_result"
    }
   ],
   "source": [
    "a = np.arange(10)\n",
    "arr[(5 < a) & (a < 10)]"
   ]
  },
  {
   "cell_type": "markdown",
   "id": "6c01f776-dcbf-4233-9629-73d4f008acf5",
   "metadata": {},
   "source": [
    "### Ex. 15 Convert the function `maxx` that works on two scalars, to work on two arrays.\n",
    "Input:\n",
    "```\n",
    "def maxx(x, y):\n",
    "    \"\"\"Get the maximum of two items\"\"\"\n",
    "    if x >= y:\n",
    "        return x\n",
    "    else:\n",
    "        return y\n",
    "\n",
    "maxx(1, 5)\n",
    "```\n",
    "(My result is prettier. :( )"
   ]
  },
  {
   "cell_type": "code",
   "execution_count": 101,
   "id": "1c89d918-1eca-4e0d-a2e3-4fe89adeb4f4",
   "metadata": {},
   "outputs": [
    {
     "data": {
      "text/plain": [
       "array([10.,  9.,  8.,  7.,  6.,  5.,  6.,  7.,  8.,  9.])"
      ]
     },
     "execution_count": 101,
     "metadata": {},
     "output_type": "execute_result"
    }
   ],
   "source": [
    "def maxx(a, b):\n",
    "    r = np.array([])\n",
    "    for i in np.nditer(a):\n",
    "        if a[i] > b[i]:\n",
    "            r = np.append(r, np.array([a[i]]))\n",
    "        else:\n",
    "            r = np.append(r, np.array([b[i]]))\n",
    "    return r\n",
    "        \n",
    "a = np.arange(10)\n",
    "b = [10, 9 , 8, 7, 6, 5, 4, 3, 2, 1]\n",
    "maxx(a, b)"
   ]
  },
  {
   "cell_type": "markdown",
   "id": "9162c435-1295-4be9-a5ce-2d68fda84c33",
   "metadata": {},
   "source": [
    "### Ex. 16 Swap columns 1 and 2 in the array `arr`.\n",
    "```\n",
    "arr = np.arange(9).reshape(3,3)\n",
    "arr\n",
    "```"
   ]
  },
  {
   "cell_type": "code",
   "execution_count": 118,
   "id": "a4744d49-6f19-41fd-8f38-c76aa2c27ce4",
   "metadata": {},
   "outputs": [
    {
     "name": "stdout",
     "output_type": "stream",
     "text": [
      "[[0 1 2]\n",
      " [3 4 5]\n",
      " [6 7 8]]\n"
     ]
    },
    {
     "data": {
      "text/plain": [
       "array([[1, 0, 2],\n",
       "       [4, 3, 5],\n",
       "       [7, 6, 8]])"
      ]
     },
     "execution_count": 118,
     "metadata": {},
     "output_type": "execute_result"
    }
   ],
   "source": [
    "arr = np.arange(9).reshape(3,3)\n",
    "print(arr)\n",
    "\n",
    "arr = arr[:, [1,0,2]]\n",
    "arr"
   ]
  },
  {
   "cell_type": "markdown",
   "id": "b27521da-b528-4eeb-87da-38063d7899d4",
   "metadata": {},
   "source": [
    "### Ex. 17 Swap rows 1 and 2 in the array `arr`."
   ]
  },
  {
   "cell_type": "code",
   "execution_count": 119,
   "id": "96291a08-fa76-4251-befa-a6abbf69dc84",
   "metadata": {},
   "outputs": [
    {
     "data": {
      "text/plain": [
       "array([[4, 3, 5],\n",
       "       [1, 0, 2],\n",
       "       [7, 6, 8]])"
      ]
     },
     "execution_count": 119,
     "metadata": {},
     "output_type": "execute_result"
    }
   ],
   "source": [
    "arr = arr[[1,0,2], :]\n",
    "arr"
   ]
  },
  {
   "cell_type": "markdown",
   "id": "8b59b508-1eba-4702-a690-6d451f74ea73",
   "metadata": {},
   "source": [
    "### Ex. 18  Reverse the rows of a 2D array `arr`."
   ]
  },
  {
   "cell_type": "code",
   "execution_count": 120,
   "id": "8154d67c-59cf-4ce1-b163-4cf2854a63de",
   "metadata": {},
   "outputs": [
    {
     "data": {
      "text/plain": [
       "array([[7, 6, 8],\n",
       "       [1, 0, 2],\n",
       "       [4, 3, 5]])"
      ]
     },
     "execution_count": 120,
     "metadata": {},
     "output_type": "execute_result"
    }
   ],
   "source": [
    "arr = arr[::-1]\n",
    "arr"
   ]
  },
  {
   "cell_type": "markdown",
   "id": "4cde074d-68d5-4699-b2f2-95f5c504eada",
   "metadata": {},
   "source": [
    "### Ex. 19 Reverse the columns of a 2D array `arr`."
   ]
  },
  {
   "cell_type": "code",
   "execution_count": 123,
   "id": "d4b2e881-6c92-46fe-87e4-5a61961c2162",
   "metadata": {},
   "outputs": [
    {
     "name": "stdout",
     "output_type": "stream",
     "text": [
      "[[0 1 2]\n",
      " [3 4 5]\n",
      " [6 7 8]]\n"
     ]
    },
    {
     "data": {
      "text/plain": [
       "array([[2, 1, 0],\n",
       "       [5, 4, 3],\n",
       "       [8, 7, 6]])"
      ]
     },
     "execution_count": 123,
     "metadata": {},
     "output_type": "execute_result"
    }
   ],
   "source": [
    "arr = np.arange(9).reshape(3,3)\n",
    "print(arr)\n",
    "arr[:, ::-1]"
   ]
  },
  {
   "cell_type": "markdown",
   "id": "9d86f34c-21c9-4b57-96cb-4f9d1cd99ccb",
   "metadata": {},
   "source": [
    "### Ex. 20 Create a 2D array of shape 5x3 to contain random decimal numbers between 5 and 10."
   ]
  },
  {
   "cell_type": "code",
   "execution_count": 127,
   "id": "2c1314ef-da6e-4a1c-ad8f-8013e2ff9f74",
   "metadata": {},
   "outputs": [
    {
     "data": {
      "text/plain": [
       "array([[5.25172916, 7.17522825, 7.24465269],\n",
       "       [7.5117384 , 7.84807767, 6.42229007],\n",
       "       [5.56659765, 7.06706078, 6.22468044],\n",
       "       [8.27475451, 5.38780709, 7.45379169],\n",
       "       [6.57762072, 6.59860359, 7.48405169]])"
      ]
     },
     "execution_count": 127,
     "metadata": {},
     "output_type": "execute_result"
    }
   ],
   "source": [
    "a = np.random.uniform(5,10, size=(5,3))\n",
    "a"
   ]
  },
  {
   "cell_type": "markdown",
   "id": "d3c29961-e2e1-4c2e-b67f-504feffa6d8d",
   "metadata": {},
   "source": [
    "### Ex. 21 Print or show only 3 decimal places of the numpy array `a`."
   ]
  },
  {
   "cell_type": "code",
   "execution_count": 128,
   "id": "8c5f2ba1-a0b3-48ce-8c5e-29f07d58f626",
   "metadata": {},
   "outputs": [
    {
     "data": {
      "text/plain": [
       "array([[5.252, 7.175, 7.245],\n",
       "       [7.512, 7.848, 6.422],\n",
       "       [5.567, 7.067, 6.225],\n",
       "       [8.275, 5.388, 7.454]])"
      ]
     },
     "execution_count": 128,
     "metadata": {},
     "output_type": "execute_result"
    }
   ],
   "source": [
    "np.set_printoptions(precision=3)\n",
    "a[:4]"
   ]
  },
  {
   "cell_type": "markdown",
   "id": "eba96b3f-3a34-41d5-9041-78b16cb195a1",
   "metadata": {},
   "source": [
    "### Ex. 22 Pretty print `rand_arr` by suppressing the scientific notation (like 1e10).\n",
    "Input:\n",
    "```\n",
    "np.random.seed(100)\n",
    "rand_arr = np.random.random([3,3])/1e3\n",
    "```"
   ]
  },
  {
   "cell_type": "code",
   "execution_count": 136,
   "id": "8ed1dff6-3ad7-480f-8513-166d36a0ac83",
   "metadata": {},
   "outputs": [
    {
     "data": {
      "text/plain": [
       "array([[0.000543405, 0.000278369, 0.000424518],\n",
       "       [0.000844776, 0.000004719, 0.000121569],\n",
       "       [0.000670749, 0.000825853, 0.000136707]])"
      ]
     },
     "execution_count": 136,
     "metadata": {},
     "output_type": "execute_result"
    }
   ],
   "source": [
    "np.random.seed(100)\n",
    "rand_arr = np.random.random([3,3])/1e3\n",
    "\n",
    "np.set_printoptions(suppress=True, precision=9)\n",
    "rand_arr"
   ]
  },
  {
   "cell_type": "markdown",
   "id": "a4dcf344-474e-4237-abc0-67e2556bf121",
   "metadata": {},
   "source": [
    "### Ex. 23 Limit the number of items printed in python numpy array a to a maximum of 6 elements."
   ]
  },
  {
   "cell_type": "code",
   "execution_count": 137,
   "id": "e6a3c1fe-ec58-4a83-978e-93b3eb17c1ff",
   "metadata": {},
   "outputs": [
    {
     "data": {
      "text/plain": [
       "array([ 0,  1,  2, ..., 12, 13, 14])"
      ]
     },
     "execution_count": 137,
     "metadata": {},
     "output_type": "execute_result"
    }
   ],
   "source": [
    "a = np.arange(15)\n",
    "np.set_printoptions(threshold=6)\n",
    "a"
   ]
  },
  {
   "cell_type": "markdown",
   "id": "89e5694f-ded5-4e58-ba5f-3e94112b5dc8",
   "metadata": {},
   "source": [
    "### Ex. 24 Print the full numpy array `a` without truncating."
   ]
  },
  {
   "cell_type": "code",
   "execution_count": 138,
   "id": "1659aaca-1920-410e-a66a-e8f0f2dda7ec",
   "metadata": {},
   "outputs": [
    {
     "data": {
      "text/plain": [
       "array([ 0,  1,  2,  3,  4,  5,  6,  7,  8,  9, 10, 11, 12, 13, 14])"
      ]
     },
     "execution_count": 138,
     "metadata": {},
     "output_type": "execute_result"
    }
   ],
   "source": [
    "np.set_printoptions(threshold=15)\n",
    "a"
   ]
  },
  {
   "cell_type": "markdown",
   "id": "5c3b7fe5-ddab-4d4d-a615-9f6a9572dc9e",
   "metadata": {},
   "source": [
    "### Ex. 25 Import the [iris dataset](https://archive.ics.uci.edu/ml/machine-learning-databases/iris/iris.data) keeping the text intact."
   ]
  },
  {
   "cell_type": "code",
   "execution_count": 139,
   "id": "18423098-8767-464a-9564-7495ec082946",
   "metadata": {},
   "outputs": [
    {
     "data": {
      "text/plain": [
       "array([[b'5.1', b'3.5', b'1.4', b'0.2', b'Iris-setosa'],\n",
       "       [b'4.9', b'3.0', b'1.4', b'0.2', b'Iris-setosa'],\n",
       "       [b'4.7', b'3.2', b'1.3', b'0.2', b'Iris-setosa']], dtype=object)"
      ]
     },
     "execution_count": 139,
     "metadata": {},
     "output_type": "execute_result"
    }
   ],
   "source": [
    "url = 'https://archive.ics.uci.edu/ml/machine-learning-databases/iris/iris.data'\n",
    "data = np.genfromtxt(url, delimiter=',', dtype='object')\n",
    "names = ('sepallength', 'sepalwidth', 'petallength', 'petalwidth', 'species')\n",
    "\n",
    "data[:3]\n"
   ]
  }
 ],
 "metadata": {
  "kernelspec": {
   "display_name": "Python 3",
   "language": "python",
   "name": "python3"
  },
  "language_info": {
   "codemirror_mode": {
    "name": "ipython",
    "version": 3
   },
   "file_extension": ".py",
   "mimetype": "text/x-python",
   "name": "python",
   "nbconvert_exporter": "python",
   "pygments_lexer": "ipython3",
   "version": "3.8.8"
  }
 },
 "nbformat": 4,
 "nbformat_minor": 5
}